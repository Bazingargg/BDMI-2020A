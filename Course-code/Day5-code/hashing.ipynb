{
 "cells": [
  {
   "cell_type": "code",
   "execution_count": 25,
   "metadata": {},
   "outputs": [],
   "source": [
    "def add(buckets,temp):\n",
    "    for x in temp:\n",
    "        buckets[(x*7)%5].append(x)\n",
    "    return buckets"
   ]
  },
  {
   "cell_type": "code",
   "execution_count": 26,
   "metadata": {},
   "outputs": [],
   "source": [
    "def del1(buckets,x):\n",
    "    if x in buckets[(x*7)%5]:\n",
    "        buckets[(x*7)%5].remove(x)\n",
    "    return buckets"
   ]
  },
  {
   "cell_type": "code",
   "execution_count": 27,
   "metadata": {
    "scrolled": true
   },
   "outputs": [
    {
     "name": "stdout",
     "output_type": "stream",
     "text": [
      "[[5], [3, 8], [1], [4], [7, 2]]\n"
     ]
    }
   ],
   "source": [
    "temp=[7,5,3,4,1,2,8]\n",
    "buckets=[[] for _ in range(5)]\n",
    "buckets=add(buckets,temp)\n",
    "print(buckets)"
   ]
  },
  {
   "cell_type": "code",
   "execution_count": 28,
   "metadata": {},
   "outputs": [
    {
     "name": "stdout",
     "output_type": "stream",
     "text": [
      "[[5], [3, 8], [1], [4, 9], [7, 2]]\n"
     ]
    }
   ],
   "source": [
    "buckets=add(buckets,[9])\n",
    "print(buckets)"
   ]
  },
  {
   "cell_type": "code",
   "execution_count": 29,
   "metadata": {},
   "outputs": [
    {
     "name": "stdout",
     "output_type": "stream",
     "text": [
      "[[5], [3, 8], [1], [9], [7, 2]]\n"
     ]
    }
   ],
   "source": [
    "x=4\n",
    "buckets=del1(buckets,x)\n",
    "print(buckets)"
   ]
  }
 ],
 "metadata": {
  "kernelspec": {
   "display_name": "Python 3",
   "language": "python",
   "name": "python3"
  },
  "language_info": {
   "codemirror_mode": {
    "name": "ipython",
    "version": 3
   },
   "file_extension": ".py",
   "mimetype": "text/x-python",
   "name": "python",
   "nbconvert_exporter": "python",
   "pygments_lexer": "ipython3",
   "version": "3.7.0"
  }
 },
 "nbformat": 4,
 "nbformat_minor": 4
}
