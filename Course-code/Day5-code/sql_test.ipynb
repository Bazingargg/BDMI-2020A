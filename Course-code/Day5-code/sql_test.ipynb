{
 "cells": [
  {
   "cell_type": "code",
   "execution_count": 33,
   "metadata": {},
   "outputs": [],
   "source": [
    "import sqlite3 as s3\n",
    "db=s3.connect(\"Student.db\")\n",
    "cursor=db.cursor()"
   ]
  },
  {
   "cell_type": "code",
   "execution_count": 34,
   "metadata": {},
   "outputs": [],
   "source": [
    "#cursor.execute(\"\"\"CREATE TABLE IF NOT EXISTS student(\n",
    "#    id string PRIMARY KEY,\n",
    "#    name text NOT NULL,\n",
    "#    sex text NOT NULL,\n",
    "#    age integer);\"\"\")\n",
    "#db.commit()\n",
    "#cursor.execute(\"\"\"INSERT INTO student(id,name,sex,age)\n",
    "#    VALUES('2011011237','张三','男',18)\"\"\")\n",
    "#db.commit()\n",
    "#cursor.execute(\"\"\"INSERT INTO student(id,name,sex,age)\n",
    "#    VALUES('2011011238','李四','女',19)\"\"\")\n",
    "#db.commit()\n",
    "#cursor.execute(\"\"\"INSERT INTO student(id,name,sex,age)\n",
    "#    VALUES('2011011239','王五','男',88)\"\"\")\n",
    "#db.commit()"
   ]
  },
  {
   "cell_type": "code",
   "execution_count": 35,
   "metadata": {},
   "outputs": [],
   "source": [
    "db2=s3.connect(\"Class.db\")\n",
    "cur2=db2.cursor()"
   ]
  },
  {
   "cell_type": "code",
   "execution_count": 36,
   "metadata": {},
   "outputs": [],
   "source": [
    "#cur2.execute(\"\"\"CREATE TABLE IF NOT EXISTS class(\n",
    "#    name string PRIMARY KEY,\n",
    "#    teacher text NOT NULL,\n",
    "#    credits integer);\"\"\")\n",
    "#db2.commit()\n",
    "#cur2.execute(\"\"\"INSERT INTO class(name,teacher,credits)\n",
    "#    VALUES('Python','Mike',4)\"\"\")\n",
    "#db2.commit()\n",
    "#cur2.execute(\"\"\"INSERT INTO class(name,teacher,credits)\n",
    "#    VALUES('C++','Zhang',3)\"\"\")\n",
    "#db2.commit()\n",
    "#cur2.execute(\"\"\"INSERT INTO class(name,teacher,credits)\n",
    "#    VALUES('C#','Li Li',2)\"\"\")\n",
    "#db2.commit()"
   ]
  },
  {
   "cell_type": "code",
   "execution_count": 37,
   "metadata": {},
   "outputs": [],
   "source": [
    "#cur2.execute(\"\"\"CREATE TABLE IF NOT EXISTS enrolled(\n",
    "#    key integer PRIMARY KEY,\n",
    "#    student text NOT NULL,\n",
    "#    class string NOT NULL,\n",
    "#    scores integer);\"\"\")\n",
    "#db2.commit()\n",
    "#cur2.execute(\"\"\"INSERT INTO enrolled(key,student,class,scores)\n",
    "#    VALUES(1,'张三','C++',98)\"\"\")\n",
    "#db2.commit()\n",
    "#cur2.execute(\"\"\"INSERT INTO enrolled(key,student,class,scores)\n",
    "#    VALUES(2,'李四','Python',59)\"\"\")\n",
    "#db2.commit()"
   ]
  },
  {
   "cell_type": "code",
   "execution_count": 38,
   "metadata": {},
   "outputs": [
    {
     "name": "stdout",
     "output_type": "stream",
     "text": [
      "[(2011011237, '张三', '男', 18), (2011011238, '李四', '女', 19), (2011011239, '王五', '男', 88)]\n"
     ]
    }
   ],
   "source": [
    "cursor.execute(\"SELECT * FROM student\")\n",
    "print(cursor.fetchall())\n",
    "db.close()"
   ]
  },
  {
   "cell_type": "code",
   "execution_count": 39,
   "metadata": {},
   "outputs": [
    {
     "name": "stdout",
     "output_type": "stream",
     "text": [
      "[('Python', 'Mike', 4), ('C++', 'Zhang', 3), ('C#', 'Li Li', 2)]\n"
     ]
    }
   ],
   "source": [
    "cur2.execute(\"SELECT * FROM class\")\n",
    "print(cur2.fetchall())"
   ]
  },
  {
   "cell_type": "code",
   "execution_count": 40,
   "metadata": {},
   "outputs": [
    {
     "name": "stdout",
     "output_type": "stream",
     "text": [
      "[(1, '张三', 'C++', 98), (2, '李四', 'Python', 59)]\n"
     ]
    }
   ],
   "source": [
    "cur2.execute(\"SELECT * FROM enrolled\")\n",
    "print(cur2.fetchall())\n",
    "db2.close()"
   ]
  },
  {
   "cell_type": "code",
   "execution_count": null,
   "metadata": {},
   "outputs": [],
   "source": []
  }
 ],
 "metadata": {
  "kernelspec": {
   "display_name": "Python 3",
   "language": "python",
   "name": "python3"
  },
  "language_info": {
   "codemirror_mode": {
    "name": "ipython",
    "version": 3
   },
   "file_extension": ".py",
   "mimetype": "text/x-python",
   "name": "python",
   "nbconvert_exporter": "python",
   "pygments_lexer": "ipython3",
   "version": "3.7.0"
  }
 },
 "nbformat": 4,
 "nbformat_minor": 4
}
